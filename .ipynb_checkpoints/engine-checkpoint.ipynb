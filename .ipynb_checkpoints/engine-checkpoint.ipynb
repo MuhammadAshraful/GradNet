{
 "cells": [
  {
   "cell_type": "code",
   "execution_count": 36,
   "id": "fdd1e286",
   "metadata": {},
   "outputs": [
    {
     "name": "stdout",
     "output_type": "stream",
     "text": [
      "Requirement already satisfied: graphviz in c:\\users\\96898\\anaconda3\\lib\\site-packages (0.20.3)\n"
     ]
    }
   ],
   "source": [
    " #brew install graphviz\n",
    " !pip install graphviz\n",
    "from graphviz import Digraph"
   ]
  },
  {
   "cell_type": "code",
   "execution_count": 10,
   "id": "5733ba41",
   "metadata": {},
   "outputs": [],
   "source": [
    "class Value:\n",
    "    def __init__(self, num, inputs = (), operation = \"\" ):\n",
    "        self.num = num\n",
    "        self.inputs = inputs\n",
    "        self.operation = operation\n",
    "        self.gradient = 0\n",
    "        self._backward = lambda:None\n",
    "        \n",
    "        \n",
    "    def __add__(self, other):   \n",
    "        if not isinstance(other, Value): other = Value(other)\n",
    "        out = Value(self.num + other.num, (self, other), \"+\")\n",
    "        \n",
    "        def _backward():\n",
    "            self.gradient += out.gradient\n",
    "            other.gradient += out.gradient\n",
    "        out._backward = _backward\n",
    "        \n",
    "        return out\n",
    "    \n",
    "    \n",
    "    def __mul__(self, other):   \n",
    "        if not isinstance(other, Value): other = Value(other)\n",
    "        out = Value(self.num * other.num, (self, other), \"*\")\n",
    "        \n",
    "        def _backward():\n",
    "            self.gradient += other.num * out.gradient\n",
    "            other.gradient += self.num * out.gradient\n",
    "        out._backward = _backward   \n",
    "        \n",
    "        return out\n",
    "   \n",
    "    def backward(self): \n",
    "        self._backward()\n",
    "        \n",
    "        for val in self.inputs:\n",
    "            val.backward();\n",
    "        \n",
    "        \n",
    "    def __radd__(self, other):\n",
    "        return self.__add__(other)\n",
    "\n",
    "    def __rmul__(self, other):\n",
    "        return self.__mul__(other)\n",
    "\n",
    "    def __rsub__(self, other):\n",
    "        return Value(other).__sub__(self)\n",
    "    \n",
    "    def __repr__(self):\n",
    "        return f\"Value(num={self.num})\""
   ]
  },
  {
   "cell_type": "code",
   "execution_count": 11,
   "id": "befa6508",
   "metadata": {},
   "outputs": [],
   "source": [
    "a = Value(7);\n",
    "b = Value(10);\n",
    "d = Value(3)\n",
    "c = a * b\n",
    "e = c * d\n",
    "e.gradient = 1\n",
    "e.backward()\n"
   ]
  },
  {
   "cell_type": "code",
   "execution_count": 12,
   "id": "ae86793f",
   "metadata": {},
   "outputs": [
    {
     "data": {
      "text/plain": [
       "(Value(num=70), Value(num=3))"
      ]
     },
     "execution_count": 12,
     "metadata": {},
     "output_type": "execute_result"
    }
   ],
   "source": [
    "e.inputs"
   ]
  },
  {
   "cell_type": "code",
   "execution_count": 13,
   "id": "807a3673",
   "metadata": {},
   "outputs": [
    {
     "data": {
      "text/plain": [
       "1"
      ]
     },
     "execution_count": 13,
     "metadata": {},
     "output_type": "execute_result"
    }
   ],
   "source": [
    "e.gradient"
   ]
  },
  {
   "cell_type": "code",
   "execution_count": 16,
   "id": "0c4f06bd",
   "metadata": {},
   "outputs": [
    {
     "data": {
      "text/plain": [
       "21"
      ]
     },
     "execution_count": 16,
     "metadata": {},
     "output_type": "execute_result"
    }
   ],
   "source": [
    "b.gradient"
   ]
  },
  {
   "cell_type": "code",
   "execution_count": null,
   "id": "79093da7",
   "metadata": {},
   "outputs": [],
   "source": []
  }
 ],
 "metadata": {
  "kernelspec": {
   "display_name": "Python 3 (ipykernel)",
   "language": "python",
   "name": "python3"
  },
  "language_info": {
   "codemirror_mode": {
    "name": "ipython",
    "version": 3
   },
   "file_extension": ".py",
   "mimetype": "text/x-python",
   "name": "python",
   "nbconvert_exporter": "python",
   "pygments_lexer": "ipython3",
   "version": "3.9.12"
  }
 },
 "nbformat": 4,
 "nbformat_minor": 5
}
