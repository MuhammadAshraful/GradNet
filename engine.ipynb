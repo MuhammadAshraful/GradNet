{
 "cells": [
  {
   "cell_type": "code",
   "execution_count": 1,
   "id": "a1bde0ad",
   "metadata": {},
   "outputs": [
    {
     "name": "stdout",
     "output_type": "stream",
     "text": [
      "Requirement already satisfied: graphviz in c:\\users\\96898\\anaconda3\\lib\\site-packages (0.20.3)\n"
     ]
    }
   ],
   "source": [
    " #brew install graphviz\n",
    " !pip install graphviz\n",
    "from graphviz import Digraph\n",
    "from IPython.display import display, SVG"
   ]
  },
  {
   "cell_type": "code",
   "execution_count": 7,
   "id": "5733ba41",
   "metadata": {},
   "outputs": [],
   "source": [
    "class Value:\n",
    "    def __init__(self, num, inputs = (), operation = \"\" ):\n",
    "        self.num = num\n",
    "        self.inputs = inputs\n",
    "        self.operation = operation\n",
    "        self.gradient = 0\n",
    "        self._backward = lambda:None\n",
    "        \n",
    "        \n",
    "    def __add__(self, other):   \n",
    "        if not isinstance(other, Value): other = Value(other)\n",
    "        out = Value(self.num + other.num, (self, other), \"+\")\n",
    "        \n",
    "        def _backward():\n",
    "            self.gradient += out.gradient\n",
    "            other.gradient += out.gradient\n",
    "        out._backward = _backward\n",
    "        \n",
    "        return out\n",
    "    \n",
    "    \n",
    "    def __mul__(self, other):   \n",
    "        if not isinstance(other, Value): other = Value(other)\n",
    "        out = Value(self.num * other.num, (self, other), \"*\")\n",
    "        \n",
    "        def _backward():\n",
    "            self.gradient += other.num * out.gradient\n",
    "            other.gradient += self.num * out.gradient\n",
    "        out._backward = _backward   \n",
    "        \n",
    "        return out\n",
    "    \n",
    "    \n",
    "    def __pow__(self, other):   \n",
    "        if not isinstance(other, Value): other = Value(other)\n",
    "        out = Value(self.num ** other.num, (self, ), \"^\")\n",
    "        \n",
    "        def _backward():\n",
    "            self.gradient += ((other.num * out.gradient) ** (other.num - 1)) * out.gradient\n",
    "           \n",
    "        out._backward = _backward   \n",
    "        \n",
    "        return out\n",
    "    \n",
    "    \n",
    "    def relu(self):\n",
    "        out = Value(max(0, self.num), (self,), \"ReLU\")\n",
    "        \n",
    "        def _backward():\n",
    "            self.gradient += (out.num > 0) * out.gradient\n",
    "        out._backward = _backward\n",
    "        \n",
    "        return out\n",
    "    \n",
    "    \n",
    "   \n",
    "    def backward(self): \n",
    "        self._backward()\n",
    "             \n",
    "        for val in self.inputs:\n",
    "            val.backward();\n",
    "        \n",
    "        \n",
    "    def __radd__(self, other):\n",
    "        return self.__add__(other)\n",
    "\n",
    "    def __rmul__(self, other):\n",
    "        return self.__mul__(other)\n",
    "\n",
    "    def __rsub__(self, other):\n",
    "        return Value(other).__sub__(self)\n",
    "    \n",
    "    def __repr__(self):\n",
    "        return f\"Value(num={self.num})\""
   ]
  },
  {
   "cell_type": "code",
   "execution_count": 1,
   "id": "bf16ce18",
   "metadata": {},
   "outputs": [
    {
     "name": "stdout",
     "output_type": "stream",
     "text": [
      "Layer 1 outputs: [0.11109856290674962, 0.4555656914441453, 0.019047990544917792, 0]\n",
      "Layer 2 outputs: [1.0128016548917684, 0]\n"
     ]
    }
   ],
   "source": [
    "import random\n",
    "\n",
    "class Neuron:\n",
    "    def __init__(self, nin):\n",
    "        # Initialize weights for each input from the previous layer\n",
    "        self.weights = [random.uniform(-1, 1) for _ in range(nin)]\n",
    "        self.bias = random.uniform(-1, 1)  \n",
    "    \n",
    "    def forward(self, inputs):\n",
    "        # Multiply each input by its respective weight and sum the results, including bias\n",
    "        weighted_sum = sum(w * inp for w, inp in zip(self.weights, inputs)) + self.bias\n",
    "        return max(0, weighted_sum)  # ReLU activation function\n",
    "\n",
    "\n",
    "class Layer:\n",
    "    def __init__(self, nin, nout):\n",
    "        # Create neurons in the layer, each with 'nin' inputs (from previous layer)\n",
    "        self.neurons = [Neuron(nin) for _ in range(nout)]\n",
    "    \n",
    "    def forward(self, inputs):\n",
    "        # Pass the inputs to each neuron and collect the outputs\n",
    "        return [neuron.forward(inputs) for neuron in self.neurons]\n",
    "\n",
    "\n",
    "# Testing\n",
    "\n",
    "inputs = [0.5, -0.3, 0.8]\n",
    "\n",
    "layer1 = Layer(3, 4)\n",
    "layer1_outputs = layer1.forward(inputs)\n",
    "print(\"Layer 1 outputs:\", layer1_outputs)\n",
    "\n",
    "layer2 = Layer(4, 2)\n",
    "layer2_outputs = layer2.forward(layer1_outputs)\n",
    "print(\"Layer 2 outputs:\", layer2_outputs)\n",
    "\n",
    "        \n",
    "\n",
    "        "
   ]
  },
  {
   "cell_type": "code",
   "execution_count": 8,
   "id": "da89c754",
   "metadata": {},
   "outputs": [],
   "source": [
    "def trace(root):\n",
    "    nodes, edges = set(), set()\n",
    "    \n",
    "    def build(v):\n",
    "        if v not in nodes:\n",
    "            nodes.add(v)\n",
    "            for child in v.inputs:\n",
    "                edges.add((child, v))\n",
    "                build(child)\n",
    "    \n",
    "    build(root)\n",
    "    return nodes, edges\n",
    "\n",
    "def draw_dot(root, format='svg', rankdir='LR'):\n",
    "    nodes, edges = trace(root)\n",
    "    dot = Digraph(format=format, graph_attr={'rankdir': rankdir})\n",
    "\n",
    "    # Add nodes\n",
    "    for n in nodes:\n",
    "        dot.node(name=str(id(n)), label=\"{data %s | gradient=%.4f}\" % (n.num, n.gradient), shape='record')\n",
    "        if n.operation:  # If the node is a result of an operation\n",
    "            dot.node(name=str(id(n)) + n.operation, label=n.operation)\n",
    "            dot.edge(str(id(n)) + n.operation, str(id(n)))\n",
    "\n",
    "    # Add edges\n",
    "    for n1, n2 in edges:\n",
    "        dot.edge(str(id(n1)), str(id(n2)) + n2.operation)\n",
    "    \n",
    "    return dot"
   ]
  },
  {
   "cell_type": "code",
   "execution_count": 9,
   "id": "3a765340",
   "metadata": {},
   "outputs": [],
   "source": [
    "# Test Case 6: Chained Operations on the Same Instance\n",
    "m = Value(3.0)\n",
    "n = m ** m\n",
    "n.gradient = 1\n",
    "n.backward()\n",
    "\n"
   ]
  },
  {
   "cell_type": "code",
   "execution_count": 10,
   "id": "79093da7",
   "metadata": {},
   "outputs": [
    {
     "data": {
      "image/svg+xml": [
       "<svg xmlns=\"http://www.w3.org/2000/svg\" xmlns:xlink=\"http://www.w3.org/1999/xlink\" width=\"472pt\" height=\"45pt\" viewBox=\"0.00 0.00 471.75 45.00\">\n",
       "<g id=\"graph0\" class=\"graph\" transform=\"scale(1 1) rotate(0) translate(4 41)\">\n",
       "<polygon fill=\"white\" stroke=\"none\" points=\"-4,4 -4,-41 467.75,-41 467.75,4 -4,4\"/>\n",
       "<!-- 1588343652512 -->\n",
       "<g id=\"node1\" class=\"node\">\n",
       "<title>1588343652512</title>\n",
       "<polygon fill=\"none\" stroke=\"black\" points=\"0,-0.5 0,-36.5 165.5,-36.5 165.5,-0.5 0,-0.5\"/>\n",
       "<text text-anchor=\"middle\" x=\"29.75\" y=\"-13.7\" font-family=\"Times New Roman,serif\" font-size=\"14.00\">data 3.0</text>\n",
       "<polyline fill=\"none\" stroke=\"black\" points=\"59.5,-1 59.5,-36.5\"/>\n",
       "<text text-anchor=\"middle\" x=\"112.5\" y=\"-13.7\" font-family=\"Times New Roman,serif\" font-size=\"14.00\">gradient=9.0000</text>\n",
       "</g>\n",
       "<!-- 1588343652848^ -->\n",
       "<g id=\"node3\" class=\"node\">\n",
       "<title>1588343652848^</title>\n",
       "<ellipse fill=\"none\" stroke=\"black\" cx=\"228.5\" cy=\"-18.5\" rx=\"27\" ry=\"18\"/>\n",
       "<text text-anchor=\"middle\" x=\"228.5\" y=\"-13.45\" font-family=\"Times New Roman,serif\" font-size=\"14.00\">^</text>\n",
       "</g>\n",
       "<!-- 1588343652512&#45;&gt;1588343652848^ -->\n",
       "<g id=\"edge2\" class=\"edge\">\n",
       "<title>1588343652512-&gt;1588343652848^</title>\n",
       "<path fill=\"none\" stroke=\"black\" d=\"M165.7,-18.5C174.14,-18.5 182.4,-18.5 189.98,-18.5\"/>\n",
       "<polygon fill=\"black\" stroke=\"black\" points=\"189.77,-22 199.77,-18.5 189.77,-15 189.77,-22\"/>\n",
       "</g>\n",
       "<!-- 1588343652848 -->\n",
       "<g id=\"node2\" class=\"node\">\n",
       "<title>1588343652848</title>\n",
       "<polygon fill=\"none\" stroke=\"black\" points=\"291.5,-0.5 291.5,-36.5 463.75,-36.5 463.75,-0.5 291.5,-0.5\"/>\n",
       "<text text-anchor=\"middle\" x=\"324.62\" y=\"-13.7\" font-family=\"Times New Roman,serif\" font-size=\"14.00\">data 27.0</text>\n",
       "<polyline fill=\"none\" stroke=\"black\" points=\"357.75,-1 357.75,-36.5\"/>\n",
       "<text text-anchor=\"middle\" x=\"410.75\" y=\"-13.7\" font-family=\"Times New Roman,serif\" font-size=\"14.00\">gradient=1.0000</text>\n",
       "</g>\n",
       "<!-- 1588343652848^&#45;&gt;1588343652848 -->\n",
       "<g id=\"edge1\" class=\"edge\">\n",
       "<title>1588343652848^-&gt;1588343652848</title>\n",
       "<path fill=\"none\" stroke=\"black\" d=\"M255.8,-18.5C263.01,-18.5 271.26,-18.5 280,-18.5\"/>\n",
       "<polygon fill=\"black\" stroke=\"black\" points=\"279.77,-22 289.77,-18.5 279.77,-15 279.77,-22\"/>\n",
       "</g>\n",
       "</g>\n",
       "</svg>"
      ],
      "text/plain": [
       "<IPython.core.display.SVG object>"
      ]
     },
     "metadata": {},
     "output_type": "display_data"
    }
   ],
   "source": [
    "dot = draw_dot(n)\n",
    "display(SVG(dot.pipe(format='svg')))"
   ]
  },
  {
   "cell_type": "code",
   "execution_count": null,
   "id": "4472c5df",
   "metadata": {},
   "outputs": [],
   "source": []
  },
  {
   "cell_type": "code",
   "execution_count": null,
   "id": "b7de034b",
   "metadata": {},
   "outputs": [],
   "source": []
  }
 ],
 "metadata": {
  "kernelspec": {
   "display_name": "Python 3 (ipykernel)",
   "language": "python",
   "name": "python3"
  },
  "language_info": {
   "codemirror_mode": {
    "name": "ipython",
    "version": 3
   },
   "file_extension": ".py",
   "mimetype": "text/x-python",
   "name": "python",
   "nbconvert_exporter": "python",
   "pygments_lexer": "ipython3",
   "version": "3.9.12"
  }
 },
 "nbformat": 4,
 "nbformat_minor": 5
}
